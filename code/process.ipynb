{
 "cells": [
  {
   "cell_type": "code",
   "execution_count": 11,
   "metadata": {},
   "outputs": [],
   "source": [
    "import pandas as pd\n",
    "import numpy as np\n",
    "import pydeck as pdk"
   ]
  },
  {
   "cell_type": "code",
   "execution_count": 12,
   "metadata": {
    "pycharm": {
     "is_executing": true,
     "name": "#%%\n"
    }
   },
   "outputs": [],
   "source": [
    "df = pd.read_csv(\"../data/sample_taxi.csv\")"
   ]
  },
  {
   "cell_type": "code",
   "execution_count": 13,
   "metadata": {
    "pycharm": {
     "is_executing": true,
     "name": "#%%\n"
    }
   },
   "outputs": [
    {
     "data": {
      "text/html": [
       "<div>\n",
       "<style scoped>\n",
       "    .dataframe tbody tr th:only-of-type {\n",
       "        vertical-align: middle;\n",
       "    }\n",
       "\n",
       "    .dataframe tbody tr th {\n",
       "        vertical-align: top;\n",
       "    }\n",
       "\n",
       "    .dataframe thead th {\n",
       "        text-align: right;\n",
       "    }\n",
       "</style>\n",
       "<table border=\"1\" class=\"dataframe\">\n",
       "  <thead>\n",
       "    <tr style=\"text-align: right;\">\n",
       "      <th></th>\n",
       "      <th>taxi_id</th>\n",
       "      <th>time</th>\n",
       "      <th>lon</th>\n",
       "      <th>lat</th>\n",
       "      <th>is_passenger</th>\n",
       "      <th>speed</th>\n",
       "    </tr>\n",
       "  </thead>\n",
       "  <tbody>\n",
       "    <tr>\n",
       "      <th>0</th>\n",
       "      <td>22224</td>\n",
       "      <td>10:13:42</td>\n",
       "      <td>113.887032</td>\n",
       "      <td>22.547518</td>\n",
       "      <td>0</td>\n",
       "      <td>0</td>\n",
       "    </tr>\n",
       "    <tr>\n",
       "      <th>1</th>\n",
       "      <td>22224</td>\n",
       "      <td>19:31:36</td>\n",
       "      <td>113.909554</td>\n",
       "      <td>22.582199</td>\n",
       "      <td>1</td>\n",
       "      <td>71</td>\n",
       "    </tr>\n",
       "    <tr>\n",
       "      <th>2</th>\n",
       "      <td>22224</td>\n",
       "      <td>17:06:32</td>\n",
       "      <td>113.916748</td>\n",
       "      <td>22.623550</td>\n",
       "      <td>1</td>\n",
       "      <td>100</td>\n",
       "    </tr>\n",
       "    <tr>\n",
       "      <th>3</th>\n",
       "      <td>22224</td>\n",
       "      <td>15:07:19</td>\n",
       "      <td>113.922432</td>\n",
       "      <td>22.535383</td>\n",
       "      <td>1</td>\n",
       "      <td>21</td>\n",
       "    </tr>\n",
       "    <tr>\n",
       "      <th>4</th>\n",
       "      <td>22224</td>\n",
       "      <td>14:55:18</td>\n",
       "      <td>113.922668</td>\n",
       "      <td>22.520033</td>\n",
       "      <td>1</td>\n",
       "      <td>10</td>\n",
       "    </tr>\n",
       "  </tbody>\n",
       "</table>\n",
       "</div>"
      ],
      "text/plain": [
       "   taxi_id      time         lon        lat  is_passenger  speed\n",
       "0    22224  10:13:42  113.887032  22.547518             0      0\n",
       "1    22224  19:31:36  113.909554  22.582199             1     71\n",
       "2    22224  17:06:32  113.916748  22.623550             1    100\n",
       "3    22224  15:07:19  113.922432  22.535383             1     21\n",
       "4    22224  14:55:18  113.922668  22.520033             1     10"
      ]
     },
     "execution_count": 13,
     "metadata": {},
     "output_type": "execute_result"
    }
   ],
   "source": [
    "df.head()"
   ]
  },
  {
   "cell_type": "code",
   "execution_count": 14,
   "metadata": {
    "pycharm": {
     "is_executing": true,
     "name": "#%%\n"
    }
   },
   "outputs": [
    {
     "data": {
      "text/plain": [
       "9843421"
      ]
     },
     "execution_count": 14,
     "metadata": {},
     "output_type": "execute_result"
    }
   ],
   "source": [
    "len(df)"
   ]
  },
  {
   "cell_type": "code",
   "execution_count": 15,
   "metadata": {
    "pycharm": {
     "is_executing": true,
     "name": "#%%\n"
    }
   },
   "outputs": [],
   "source": [
    "# layer = pydeck.Layer(\n",
    "#     'HexagonLayer',\n",
    "#     df,\n",
    "#     get_position=['lon', 'lat'],\n",
    "#     auto_highlight=True,\n",
    "#     elevation_scale=50,\n",
    "#     pickable=True,\n",
    "#     elevation_range=[0, 3000],\n",
    "#     extruded=True,\n",
    "#     coverage=1)"
   ]
  },
  {
   "cell_type": "code",
   "execution_count": 16,
   "metadata": {
    "pycharm": {
     "is_executing": true,
     "name": "#%%\n"
    }
   },
   "outputs": [
    {
     "name": "stdout",
     "output_type": "stream",
     "text": [
      "<class 'pandas.core.frame.DataFrame'>\n",
      "RangeIndex: 9843421 entries, 0 to 9843420\n",
      "Data columns (total 6 columns):\n",
      " #   Column        Dtype  \n",
      "---  ------        -----  \n",
      " 0   taxi_id       int64  \n",
      " 1   time          object \n",
      " 2   lon           float64\n",
      " 3   lat           float64\n",
      " 4   is_passenger  int64  \n",
      " 5   speed         int64  \n",
      "dtypes: float64(2), int64(3), object(1)\n",
      "memory usage: 450.6+ MB\n"
     ]
    }
   ],
   "source": [
    "df.info()\n",
    "# df['lon'] = df['lon'].round(4)\n",
    "# df['lat'] = df['lat'].round(4)"
   ]
  },
  {
   "cell_type": "code",
   "execution_count": 21,
   "metadata": {
    "pycharm": {
     "is_executing": true,
     "name": "#%%\n"
    }
   },
   "outputs": [
    {
     "data": {
      "text/html": [
       "<div>\n",
       "<style scoped>\n",
       "    .dataframe tbody tr th:only-of-type {\n",
       "        vertical-align: middle;\n",
       "    }\n",
       "\n",
       "    .dataframe tbody tr th {\n",
       "        vertical-align: top;\n",
       "    }\n",
       "\n",
       "    .dataframe thead th {\n",
       "        text-align: right;\n",
       "    }\n",
       "</style>\n",
       "<table border=\"1\" class=\"dataframe\">\n",
       "  <thead>\n",
       "    <tr style=\"text-align: right;\">\n",
       "      <th></th>\n",
       "      <th>taxi_id</th>\n",
       "      <th>lon</th>\n",
       "      <th>lat</th>\n",
       "      <th>is_passenger</th>\n",
       "      <th>speed</th>\n",
       "    </tr>\n",
       "  </thead>\n",
       "  <tbody>\n",
       "    <tr>\n",
       "      <th>count</th>\n",
       "      <td>9.843421e+06</td>\n",
       "      <td>9.843421e+06</td>\n",
       "      <td>9.843421e+06</td>\n",
       "      <td>9.843421e+06</td>\n",
       "      <td>9.843421e+06</td>\n",
       "    </tr>\n",
       "    <tr>\n",
       "      <th>mean</th>\n",
       "      <td>2.944999e+04</td>\n",
       "      <td>1.140428e+02</td>\n",
       "      <td>2.266443e+01</td>\n",
       "      <td>4.322090e-01</td>\n",
       "      <td>2.027840e+01</td>\n",
       "    </tr>\n",
       "    <tr>\n",
       "      <th>std</th>\n",
       "      <td>4.381604e+03</td>\n",
       "      <td>8.802736e-01</td>\n",
       "      <td>1.361056e+02</td>\n",
       "      <td>4.953831e-01</td>\n",
       "      <td>2.411174e+01</td>\n",
       "    </tr>\n",
       "    <tr>\n",
       "      <th>min</th>\n",
       "      <td>2.222400e+04</td>\n",
       "      <td>1.080019e+02</td>\n",
       "      <td>1.028000e+01</td>\n",
       "      <td>0.000000e+00</td>\n",
       "      <td>0.000000e+00</td>\n",
       "    </tr>\n",
       "    <tr>\n",
       "      <th>25%</th>\n",
       "      <td>2.564400e+04</td>\n",
       "      <td>1.139622e+02</td>\n",
       "      <td>2.254113e+01</td>\n",
       "      <td>0.000000e+00</td>\n",
       "      <td>0.000000e+00</td>\n",
       "    </tr>\n",
       "    <tr>\n",
       "      <th>50%</th>\n",
       "      <td>2.923700e+04</td>\n",
       "      <td>1.140498e+02</td>\n",
       "      <td>2.256608e+01</td>\n",
       "      <td>0.000000e+00</td>\n",
       "      <td>1.100000e+01</td>\n",
       "    </tr>\n",
       "    <tr>\n",
       "      <th>75%</th>\n",
       "      <td>3.328600e+04</td>\n",
       "      <td>1.141124e+02</td>\n",
       "      <td>2.262542e+01</td>\n",
       "      <td>1.000000e+00</td>\n",
       "      <td>3.600000e+01</td>\n",
       "    </tr>\n",
       "    <tr>\n",
       "      <th>max</th>\n",
       "      <td>3.694700e+04</td>\n",
       "      <td>9.926038e+02</td>\n",
       "      <td>3.402800e+05</td>\n",
       "      <td>1.000000e+00</td>\n",
       "      <td>1.200000e+02</td>\n",
       "    </tr>\n",
       "  </tbody>\n",
       "</table>\n",
       "</div>"
      ],
      "text/plain": [
       "            taxi_id           lon           lat  is_passenger         speed\n",
       "count  9.843421e+06  9.843421e+06  9.843421e+06  9.843421e+06  9.843421e+06\n",
       "mean   2.944999e+04  1.140428e+02  2.266443e+01  4.322090e-01  2.027840e+01\n",
       "std    4.381604e+03  8.802736e-01  1.361056e+02  4.953831e-01  2.411174e+01\n",
       "min    2.222400e+04  1.080019e+02  1.028000e+01  0.000000e+00  0.000000e+00\n",
       "25%    2.564400e+04  1.139622e+02  2.254113e+01  0.000000e+00  0.000000e+00\n",
       "50%    2.923700e+04  1.140498e+02  2.256608e+01  0.000000e+00  1.100000e+01\n",
       "75%    3.328600e+04  1.141124e+02  2.262542e+01  1.000000e+00  3.600000e+01\n",
       "max    3.694700e+04  9.926038e+02  3.402800e+05  1.000000e+00  1.200000e+02"
      ]
     },
     "execution_count": 21,
     "metadata": {},
     "output_type": "execute_result"
    }
   ],
   "source": [
    "# df2 = df.head(50000)\n",
    "df.describe()"
   ]
  },
  {
   "cell_type": "code",
   "execution_count": 24,
   "metadata": {},
   "outputs": [],
   "source": [
    "df2 = df[df['lat']>22]"
   ]
  },
  {
   "cell_type": "code",
   "execution_count": 25,
   "metadata": {},
   "outputs": [],
   "source": [
    "df2 = df2[df2['lat']<23]"
   ]
  },
  {
   "cell_type": "code",
   "execution_count": 26,
   "metadata": {},
   "outputs": [],
   "source": [
    "df2 = df2[df2['lon']>113]"
   ]
  },
  {
   "cell_type": "code",
   "execution_count": 28,
   "metadata": {},
   "outputs": [],
   "source": [
    "df2 = df2[df2['lon']<115]"
   ]
  },
  {
   "cell_type": "code",
   "execution_count": 29,
   "metadata": {},
   "outputs": [
    {
     "data": {
      "text/html": [
       "<div>\n",
       "<style scoped>\n",
       "    .dataframe tbody tr th:only-of-type {\n",
       "        vertical-align: middle;\n",
       "    }\n",
       "\n",
       "    .dataframe tbody tr th {\n",
       "        vertical-align: top;\n",
       "    }\n",
       "\n",
       "    .dataframe thead th {\n",
       "        text-align: right;\n",
       "    }\n",
       "</style>\n",
       "<table border=\"1\" class=\"dataframe\">\n",
       "  <thead>\n",
       "    <tr style=\"text-align: right;\">\n",
       "      <th></th>\n",
       "      <th>taxi_id</th>\n",
       "      <th>lon</th>\n",
       "      <th>lat</th>\n",
       "      <th>is_passenger</th>\n",
       "      <th>speed</th>\n",
       "    </tr>\n",
       "  </thead>\n",
       "  <tbody>\n",
       "    <tr>\n",
       "      <th>count</th>\n",
       "      <td>9.834359e+06</td>\n",
       "      <td>9.834359e+06</td>\n",
       "      <td>9.834359e+06</td>\n",
       "      <td>9.834359e+06</td>\n",
       "      <td>9.834359e+06</td>\n",
       "    </tr>\n",
       "    <tr>\n",
       "      <th>mean</th>\n",
       "      <td>2.945006e+04</td>\n",
       "      <td>1.140412e+02</td>\n",
       "      <td>2.258918e+01</td>\n",
       "      <td>4.321136e-01</td>\n",
       "      <td>2.025592e+01</td>\n",
       "    </tr>\n",
       "    <tr>\n",
       "      <th>std</th>\n",
       "      <td>4.381736e+03</td>\n",
       "      <td>1.091883e-01</td>\n",
       "      <td>6.386863e-02</td>\n",
       "      <td>4.953700e-01</td>\n",
       "      <td>2.408338e+01</td>\n",
       "    </tr>\n",
       "    <tr>\n",
       "      <th>min</th>\n",
       "      <td>2.222400e+04</td>\n",
       "      <td>1.132646e+02</td>\n",
       "      <td>2.221920e+01</td>\n",
       "      <td>0.000000e+00</td>\n",
       "      <td>0.000000e+00</td>\n",
       "    </tr>\n",
       "    <tr>\n",
       "      <th>25%</th>\n",
       "      <td>2.564400e+04</td>\n",
       "      <td>1.139623e+02</td>\n",
       "      <td>2.254113e+01</td>\n",
       "      <td>0.000000e+00</td>\n",
       "      <td>0.000000e+00</td>\n",
       "    </tr>\n",
       "    <tr>\n",
       "      <th>50%</th>\n",
       "      <td>2.923700e+04</td>\n",
       "      <td>1.140499e+02</td>\n",
       "      <td>2.256602e+01</td>\n",
       "      <td>0.000000e+00</td>\n",
       "      <td>1.100000e+01</td>\n",
       "    </tr>\n",
       "    <tr>\n",
       "      <th>75%</th>\n",
       "      <td>3.328600e+04</td>\n",
       "      <td>1.141124e+02</td>\n",
       "      <td>2.262530e+01</td>\n",
       "      <td>1.000000e+00</td>\n",
       "      <td>3.600000e+01</td>\n",
       "    </tr>\n",
       "    <tr>\n",
       "      <th>max</th>\n",
       "      <td>3.694700e+04</td>\n",
       "      <td>1.149990e+02</td>\n",
       "      <td>2.299996e+01</td>\n",
       "      <td>1.000000e+00</td>\n",
       "      <td>1.200000e+02</td>\n",
       "    </tr>\n",
       "  </tbody>\n",
       "</table>\n",
       "</div>"
      ],
      "text/plain": [
       "            taxi_id           lon           lat  is_passenger         speed\n",
       "count  9.834359e+06  9.834359e+06  9.834359e+06  9.834359e+06  9.834359e+06\n",
       "mean   2.945006e+04  1.140412e+02  2.258918e+01  4.321136e-01  2.025592e+01\n",
       "std    4.381736e+03  1.091883e-01  6.386863e-02  4.953700e-01  2.408338e+01\n",
       "min    2.222400e+04  1.132646e+02  2.221920e+01  0.000000e+00  0.000000e+00\n",
       "25%    2.564400e+04  1.139623e+02  2.254113e+01  0.000000e+00  0.000000e+00\n",
       "50%    2.923700e+04  1.140499e+02  2.256602e+01  0.000000e+00  1.100000e+01\n",
       "75%    3.328600e+04  1.141124e+02  2.262530e+01  1.000000e+00  3.600000e+01\n",
       "max    3.694700e+04  1.149990e+02  2.299996e+01  1.000000e+00  1.200000e+02"
      ]
     },
     "execution_count": 29,
     "metadata": {},
     "output_type": "execute_result"
    }
   ],
   "source": [
    "df2.describe()"
   ]
  },
  {
   "cell_type": "code",
   "execution_count": 31,
   "metadata": {},
   "outputs": [
    {
     "name": "stderr",
     "output_type": "stream",
     "text": [
      "<ipython-input-31-dc41e6572ccd>:8: FutureWarning: Indexing with multiple keys (implicitly converted to a tuple of keys) will be deprecated, use a list instead.\n",
      "  df = data.groupby('taxi_id')['coordinates', 'timestamp'].sum()\n"
     ]
    }
   ],
   "source": [
    "data = df2\n",
    "data.columns = ['taxi_id', 'time', 'lon', 'lat', 'OpenStatus', 'Speed']\n",
    "data['coordinates'] = data.apply(lambda r: [r['lon'], r['lat']], axis=1)\n",
    "data['timestamp'] = data['time'].str.slice(0, 2).astype('int') * 3600 + data['time'].str.slice(3, 5).astype('int') * 60 + data['time'].str.slice(6, 8).astype('int') * 1\n",
    "data = data.sort_values(by=['taxi_id', 'timestamp'])\n",
    "data['coordinates'] = data['coordinates'].apply(lambda r: [r])\n",
    "data['timestamp'] = data['timestamp'].apply(lambda r: [r])\n",
    "df = data.groupby('taxi_id')['coordinates', 'timestamp'].sum()\n",
    "df = df.reset_index()"
   ]
  },
  {
   "cell_type": "code",
   "execution_count": 34,
   "metadata": {},
   "outputs": [],
   "source": [
    "df.columns = ['vendor', 'coordinates', 'timestamp']\n",
    "import random\n",
    "color = []\n",
    "for i in range(0, 3000):\n",
    "    iop = [random.randint(0, 255), random.randint(0, 255), random.randint(0, 255)]\n",
    "    color.append(iop)\n",
    "df['color'] = color\n",
    "df.to_json('./file4.json', orient='records', lines=True)"
   ]
  },
  {
   "cell_type": "code",
   "execution_count": 18,
   "metadata": {
    "pycharm": {
     "is_executing": true,
     "name": "#%%\n"
    }
   },
   "outputs": [],
   "source": [
    "# layer = pdk.Layer(\n",
    "#      #'HexagonLayer',\n",
    "#     'TripsLayer',\n",
    "#     df2,                                   #数据在此输入\n",
    "#     get_position=['lon', 'lat'],                #指定经纬度的列\n",
    "#     getColorWeight = 'taxi_id',                #指定集计数量的列\n",
    "#     getElevationWeight = 'taxi_id',            #指定集计数量的列\n",
    "#     getTimeStamps='timestamps'\n",
    "#      auto_highlight=True,\n",
    "#      elevation_scale=10,\n",
    "#      pickable=True,\n",
    "#      radius = 200,                                #Hexagon的大小\n",
    "#      elevation_range=[0, 500],                    #Hexagon的高低\n",
    "#      extruded=True,\n",
    "#      coverage=1)                                  #Hexagon覆盖比例\n",
    "#\n",
    "# # Set the viewport location\n",
    "# view_state = pdk.ViewState(\n",
    "#     longitude=114.027465,                         #地图底图中心经纬度\n",
    "#     latitude=22.632468,                           #地图底图中心经纬度\n",
    "#     zoom=10,                                      #地图底图缩放等级\n",
    "#     min_zoom=5,\n",
    "#     max_zoom=12,\n",
    "#     pitch=40,                                     #地图底图俯视角度\n",
    "#     bearing=-10)                                  #地图底图选转角度\n",
    "#\n",
    "# # Render\n",
    "# r = pdk.Deck(layers=layer,                       #创建deckgl实例\n",
    "#              initial_view_state=view_state,\n",
    "#              api_keys = {'mapbox':'sk.eyJ1IjoibGV0aGFsMjMzIiwiYSI6ImNrbzU3Y3JxMDE5aGUyb3M1dnY3c20zajIifQ.guC2wc_8Sx7ZuegWEshs5g'},               #你的mapbox_key\n",
    "#              map_style =  'mapbox://styles/mapbox/dark-v9'#mapbox底图的风格\n",
    "#             )\n",
    "# r.show()"
   ]
  },
  {
   "cell_type": "code",
   "execution_count": 19,
   "metadata": {
    "pycharm": {
     "is_executing": true
    }
   },
   "outputs": [],
   "source": [
    "# layer = pdk.Layer(\n",
    "#      'HeatmapLayer',\n",
    "#     df.head(100000),                                   #数据在此输入\n",
    "#     get_position=['lon', 'lat'],                #指定经纬度的列\n",
    "#     getWeight = 'taxi_id',                     #指定权重\n",
    "#      )\n",
    "#\n",
    "# # Set the viewport location\n",
    "# view_state = pdk.ViewState(\n",
    "#     longitude=114.027465,\n",
    "#     latitude=22.632468,\n",
    "#     zoom=10,\n",
    "#     min_zoom=5,\n",
    "#     max_zoom=12,\n",
    "#     pitch=40,\n",
    "#     bearing=-10)\n",
    "#\n",
    "# # Render\n",
    "# r = pdk.Deck(layers=[layer],\n",
    "#              initial_view_state=view_state,\n",
    "#              api_keys = {'mapbox':'sk.eyJ1IjoibGV0aGFsMjMzIiwiYSI6ImNrbzU3Y3JxMDE5aGUyb3M1dnY3c20zajIifQ.guC2wc_8Sx7ZuegWEshs5g'},\n",
    "#               map_style =  'mapbox://styles/mapbox/dark-v9'\n",
    "#             )\n",
    "# r.show()"
   ]
  },
  {
   "cell_type": "code",
   "execution_count": 20,
   "metadata": {
    "pycharm": {
     "is_executing": true
    }
   },
   "outputs": [],
   "source": [
    "# layer = pdk.Layer(\n",
    "#      'ScreenGridLayer',\n",
    "#     df.head(100000),                                   #数据在此输入\n",
    "#     get_position=['lon', 'lat'],                #指定经纬度的列\n",
    "#     getWeight = 'taxi_id',                     #指定权重\n",
    "#      opacity =  1,\n",
    "#     cellSizePixels = 10,\n",
    "#     colorRange = [\n",
    "#         [255,255,204,25],\n",
    "#         [199,233,180,85],\n",
    "#         [127,205,187,127],\n",
    "#         [65,182,196,170],\n",
    "#         [44,127,184,190],\n",
    "#         [37,52,148,255]\n",
    "#         ],\n",
    "#      )\n",
    "#\n",
    "# # Set the viewport location\n",
    "# view_state = pdk.ViewState(\n",
    "#     longitude=114.027465,\n",
    "#     latitude=22.632468,\n",
    "#     zoom=10,\n",
    "#     min_zoom=5,\n",
    "#     max_zoom=16,\n",
    "#     pitch=40,\n",
    "#     bearing=-10)\n",
    "#\n",
    "# # Render\n",
    "# r = pdk.Deck(layers=[layer],\n",
    "#              initial_view_state=view_state,\n",
    "#              api_keys = {'mapbox':'sk.eyJ1IjoibGV0aGFsMjMzIiwiYSI6ImNrbzU3Y3JxMDE5aGUyb3M1dnY3c20zajIifQ.guC2wc_8Sx7ZuegWEshs5g'},\n",
    "#               map_style =  'mapbox://styles/mapbox/dark-v9'\n",
    "#             )\n",
    "# r.show()"
   ]
  },
  {
   "cell_type": "code",
   "execution_count": null,
   "metadata": {
    "pycharm": {
     "is_executing": true
    }
   },
   "outputs": [],
   "source": []
  }
 ],
 "metadata": {
  "kernelspec": {
   "display_name": "Python 3",
   "language": "python",
   "name": "python3"
  },
  "language_info": {
   "codemirror_mode": {
    "name": "ipython",
    "version": 3
   },
   "file_extension": ".py",
   "mimetype": "text/x-python",
   "name": "python",
   "nbconvert_exporter": "python",
   "pygments_lexer": "ipython3",
   "version": "3.8.8"
  }
 },
 "nbformat": 4,
 "nbformat_minor": 1
}